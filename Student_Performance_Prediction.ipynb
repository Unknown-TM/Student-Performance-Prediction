{
 "cells": [
  {
   "cell_type": "markdown",
   "id": "d7135ad2",
   "metadata": {},
   "source": [
    "# Student Performance Prediction"
   ]
  },
  {
   "cell_type": "markdown",
   "id": "40e805f6",
   "metadata": {},
   "source": [
    "## Training model and evaluation"
   ]
  },
  {
   "cell_type": "code",
   "execution_count": null,
   "id": "bbad4221",
   "metadata": {},
   "outputs": [
    {
     "name": "stdout",
     "output_type": "stream",
     "text": [
      "Confusion Matrix:\n",
      " [[ 17   0   0]\n",
      " [  0 107   3]\n",
      " [  1   2  70]]\n",
      "\n",
      "Classification Report:\n",
      "               precision    recall  f1-score   support\n",
      "\n",
      "        High       0.94      1.00      0.97        17\n",
      "         Low       0.98      0.97      0.98       110\n",
      "      Medium       0.96      0.96      0.96        73\n",
      "\n",
      "    accuracy                           0.97       200\n",
      "   macro avg       0.96      0.98      0.97       200\n",
      "weighted avg       0.97      0.97      0.97       200\n",
      "\n"
     ]
    }
   ],
   "source": [
    "import pandas as pd\n",
    "import numpy as np\n",
    "from sklearn.model_selection import train_test_split\n",
    "from sklearn.preprocessing import LabelEncoder, StandardScaler\n",
    "from sklearn.ensemble import RandomForestClassifier\n",
    "from sklearn.metrics import classification_report, confusion_matrix\n",
    "import joblib\n",
    "import matplotlib.pyplot as plt\n",
    "import seaborn as sns\n",
    "\n",
    "# Load dataset\n",
    "df = pd.read_csv(\"C:\\\\Users\\\\rohan\\\\Desktop\\\\WorkSpace\\\\Student-Performance-Prediction\\\\dataset\\\\StudentsPerformance.csv\")\n",
    "\n",
    "# Feature Engineering\n",
    "df[\"average_score\"] = df[[\"math score\", \"reading score\", \"writing score\"]].mean(axis=1)\n",
    "\n",
    "def categorize_performance(score):\n",
    "    if score >= 85:\n",
    "        return \"High\"\n",
    "    elif score >= 70:\n",
    "        return \"Medium\"\n",
    "    else:\n",
    "        return \"Low\"\n",
    "\n",
    "df[\"performance\"] = df[\"average_score\"].apply(categorize_performance)\n",
    "\n",
    "# Encode categorical variables\n",
    "label_encoders = {}\n",
    "categorical_cols = [\"gender\", \"race/ethnicity\", \"parental level of education\", \"lunch\", \"test preparation course\"]\n",
    "\n",
    "for col in categorical_cols:\n",
    "    le = LabelEncoder()\n",
    "    df[col] = le.fit_transform(df[col])\n",
    "    label_encoders[col] = le\n",
    "\n",
    "# Features and Target\n",
    "X = df[categorical_cols + [\"math score\", \"reading score\", \"writing score\"]]\n",
    "y = df[\"performance\"]\n",
    "\n",
    "# Split and Scale\n",
    "X_train, X_test, y_train, y_test = train_test_split(X, y, test_size=0.2, random_state=42)\n",
    "scaler = StandardScaler()\n",
    "X_train_scaled = scaler.fit_transform(X_train)\n",
    "X_test_scaled = scaler.transform(X_test)\n",
    "\n",
    "# Train Model\n",
    "model = RandomForestClassifier(random_state=42)\n",
    "model.fit(X_train_scaled, y_train)\n",
    "\n",
    "# Save model and tools\n",
    "joblib.dump(model, \"rf_model.joblib\")\n",
    "joblib.dump(scaler, \"scaler.joblib\")\n",
    "joblib.dump(label_encoders, \"label_encoders.joblib\")\n",
    "\n",
    "# Evaluate\n",
    "y_pred = model.predict(X_test_scaled)\n",
    "print(\"Confusion Matrix:\\n\", confusion_matrix(y_test, y_pred))\n",
    "print(\"\\nClassification Report:\\n\", classification_report(y_test, y_pred))\n"
   ]
  },
  {
   "cell_type": "markdown",
   "id": "f7fc4a0b",
   "metadata": {},
   "source": [
    "## Prediction"
   ]
  },
  {
   "cell_type": "code",
   "execution_count": 14,
   "id": "3565934f",
   "metadata": {},
   "outputs": [
    {
     "name": "stdout",
     "output_type": "stream",
     "text": [
      "\n",
      "Sample Predictions:\n",
      "    math score  reading score  writing score predicted_performance\n",
      "0          88             92             85                  High\n",
      "1          55             60             58                   Low\n"
     ]
    },
    {
     "data": {
      "image/png": "[encoded data removed]",
      "text/plain": [
       "<Figure size 600x400 with 1 Axes>"
      ]
     },
     "metadata": {},
     "output_type": "display_data"
    }
   ],
   "source": [
    "sample_students = pd.DataFrame([\n",
    "    {\n",
    "        \"gender\": \"female\",\n",
    "        \"race/ethnicity\": \"group C\",\n",
    "        \"parental level of education\": \"bachelor's degree\",\n",
    "        \"lunch\": \"standard\",\n",
    "        \"test preparation course\": \"completed\",\n",
    "        \"math score\": 88,\n",
    "        \"reading score\": 92,\n",
    "        \"writing score\": 85\n",
    "    },\n",
    "    {\n",
    "        \"gender\": \"male\",\n",
    "        \"race/ethnicity\": \"group A\",\n",
    "        \"parental level of education\": \"some high school\",\n",
    "        \"lunch\": \"free/reduced\",\n",
    "        \"test preparation course\": \"none\",\n",
    "        \"math score\": 55,\n",
    "        \"reading score\": 60,\n",
    "        \"writing score\": 58\n",
    "    }\n",
    "])\n",
    "\n",
    "# Encode and scale new data\n",
    "for col in categorical_cols:\n",
    "    sample_students[col] = label_encoders[col].transform(sample_students[col])\n",
    "\n",
    "sample_X = sample_students[categorical_cols + [\"math score\", \"reading score\", \"writing score\"]]\n",
    "sample_scaled = scaler.transform(sample_X)\n",
    "\n",
    "# Predict\n",
    "sample_students[\"predicted_performance\"] = model.predict(sample_scaled)\n",
    "print(\"\\nSample Predictions:\\n\", sample_students[[\"math score\", \"reading score\", \"writing score\", \"predicted_performance\"]])\n",
    "\n",
    "plt.figure(figsize=(6, 4))\n",
    "sns.barplot(x=\"predicted_performance\", y=\"math score\", data=sample_students)\n",
    "plt.title(\"Math Score vs. Predicted Performance (Samples)\")\n",
    "plt.tight_layout()\n",
    "plt.show()\n"
   ]
  }
 ],
 "metadata": {
  "kernelspec": {
   "display_name": "Python 3",
   "language": "python",
   "name": "python3"
  },
  "language_info": {
   "codemirror_mode": {
    "name": "ipython",
    "version": 3
   },
   "file_extension": ".py",
   "mimetype": "text/x-python",
   "name": "python",
   "nbconvert_exporter": "python",
   "pygments_lexer": "ipython3",
   "version": "3.12.7"
  }
 },
 "nbformat": 4,
 "nbformat_minor": 5
}
